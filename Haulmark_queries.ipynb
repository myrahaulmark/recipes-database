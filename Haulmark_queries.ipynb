{
 "cells": [
  {
   "cell_type": "code",
   "execution_count": 1,
   "metadata": {},
   "outputs": [
    {
     "name": "stdout",
     "output_type": "stream",
     "text": [
      "Requirement already satisfied: sqlalchemy in c:\\users\\haulmark\\appdata\\local\\programs\\python\\python311\\lib\\site-packages (2.0.35)"
     ]
    },
    {
     "name": "stderr",
     "output_type": "stream",
     "text": [
      "\n",
      "[notice] A new release of pip is available: 23.3.1 -> 24.2\n",
      "[notice] To update, run: python.exe -m pip install --upgrade pip\n"
     ]
    },
    {
     "name": "stdout",
     "output_type": "stream",
     "text": [
      "\n",
      "Requirement already satisfied: typing-extensions>=4.6.0 in c:\\users\\haulmark\\appdata\\local\\programs\\python\\python311\\lib\\site-packages (from sqlalchemy) (4.8.0)\n",
      "Requirement already satisfied: greenlet!=0.4.17 in c:\\users\\haulmark\\appdata\\local\\programs\\python\\python311\\lib\\site-packages (from sqlalchemy) (3.1.1)\n"
     ]
    }
   ],
   "source": [
    "\n",
    "!pip install sqlalchemy"
   ]
  },
  {
   "cell_type": "code",
   "execution_count": 13,
   "metadata": {},
   "outputs": [
    {
     "name": "stderr",
     "output_type": "stream",
     "text": [
      "C:\\Users\\haulmark\\AppData\\Local\\Temp\\ipykernel_12692\\1344665909.py:7: MovedIn20Warning: The ``declarative_base()`` function is now available as sqlalchemy.orm.declarative_base(). (deprecated since: 2.0) (Background on SQLAlchemy 2.0 at: https://sqlalche.me/e/b8d9)\n",
      "  Base = declarative_base()\n"
     ]
    }
   ],
   "source": [
    "from sqlalchemy import Column, Integer, String, ForeignKey, create_engine, Date, Float\n",
    "from sqlalchemy.orm import sessionmaker\n",
    "from sqlalchemy.ext.declarative import declarative_base\n",
    "from sqlalchemy import Column, Integer, String, ForeignKey, create_engine, Date, Float, func\n",
    "\n",
    "\n",
    "Base = declarative_base()\n",
    "\n"
   ]
  },
  {
   "cell_type": "code",
   "execution_count": 14,
   "metadata": {},
   "outputs": [
    {
     "name": "stderr",
     "output_type": "stream",
     "text": [
      "C:\\Users\\haulmark\\AppData\\Local\\Temp\\ipykernel_12692\\756321538.py:4: SAWarning: Can't validate argument 'extend_existing'; can't locate any SQLAlchemy dialect named 'extend'\n",
      "  CategoryID = Column(Integer, primary_key=True, autoincrement=True, extend_existing=True)\n",
      "C:\\Users\\haulmark\\AppData\\Local\\Temp\\ipykernel_12692\\756321538.py:5: SAWarning: Can't validate argument 'extend_existing'; can't locate any SQLAlchemy dialect named 'extend'\n",
      "  CategoryName = Column(String, extend_existing=True)\n"
     ]
    }
   ],
   "source": [
    "class Category(Base):\n",
    "    __tablename__ = 'Categories'\n",
    "    \n",
    "    CategoryID = Column(Integer, primary_key=True, autoincrement=True, extend_existing=True)\n",
    "    CategoryName = Column(String, extend_existing=True)\n",
    "\n",
    "\n",
    "\n",
    "# Users Table\n",
    "class User(Base):\n",
    "    __tablename__ = 'Users'\n",
    "    \n",
    "    UserID = Column(Integer, primary_key=True, autoincrement=True)\n",
    "    FirstName = Column(String)\n",
    "    LastName = Column(String)\n",
    "    Email = Column(String)\n",
    "    JoinDate = Column(Date)\n",
    "\n",
    "# Recipes Table\n",
    "class Recipe(Base):\n",
    "    __tablename__ = 'Recipes'\n",
    "    \n",
    "    RecipeID = Column(Integer, primary_key=True, autoincrement=True)\n",
    "    Title = Column(String)\n",
    "    Description = Column(String)\n",
    "    CookingTime = Column(Integer)\n",
    "    Servings = Column(Integer)\n",
    "    NumberOfSteps = Column(Integer)\n",
    "    SubmittedDate = Column(Date)\n",
    "    NumberOfIngredients = Column(Integer)\n",
    "    ImageURL = Column(String)\n",
    "\n",
    "# Ingredients Table\n",
    "class Ingredient(Base):\n",
    "    __tablename__ = 'Ingredients'\n",
    "    \n",
    "    IngredientsID = Column(Integer, primary_key=True, autoincrement=True)\n",
    "    Ingredients = Column(String, nullable=False)\n",
    "    ServingSize = Column(Integer)\n",
    "    Calories = Column(Integer)\n",
    "    TotalFat = Column(Integer)\n",
    "    SaturatedFat = Column(Integer)\n",
    "    Cholesterol = Column(Integer)\n",
    "    Sodium = Column(Integer)\n",
    "    Carbohydrate = Column(Integer)\n",
    "    Fiber = Column(Integer)\n",
    "    Sugars = Column(Integer)\n",
    "    Protein = Column(Integer)\n",
    "    Fat = Column(Integer)\n",
    "    Caffeine = Column(Integer)\n",
    "    Source = Column(String)\n",
    "    Date = Column(String)\n",
    "    IsAllergen = Column(String)\n",
    "    Food_allergen_ID = Column(Integer)\n",
    "    Food = Column(String)\n",
    "    Food_Class = Column(String)\n",
    "    Food_type = Column(String)\n",
    "    Food_Group = Column(String)\n",
    "    Allergy_Type = Column(String)\n",
    "\n",
    "# Recipe_Ingredients Fact Table\n",
    "class RecipeIngredientsFact(Base):\n",
    "    __tablename__ = 'Recipe_Ingredients_fact_table'\n",
    "    \n",
    "    CompID = Column(Integer, primary_key=True, autoincrement=True)\n",
    "    RecipeID = Column(Integer, ForeignKey('recipes.RecipeID'))\n",
    "    IngredientsID = Column(Integer, ForeignKey('ingredients.IngredientsID'))\n",
    "    Ingredients = Column(String)\n",
    "\n",
    "# Reviews Table\n",
    "class Review(Base):\n",
    "    __tablename__ = 'Reviews'\n",
    "    \n",
    "    ReviewID = Column(Integer, primary_key=True, autoincrement=True)\n",
    "    Rating = Column(Integer)\n",
    "    ReviewText = Column(String)\n",
    "    ReviewDate = Column(Date)\n",
    "    UserID = Column(Integer, ForeignKey('users.UserID'))\n",
    "    RecipeID = Column(Integer, ForeignKey('recipes.RecipeID'))\n",
    "\n",
    "# Recipe_Categories Table\n",
    "class RecipeCategory(Base):\n",
    "    __tablename__ = 'Recipe_Categories'\n",
    "    \n",
    "    CategoryID = Column(Integer, ForeignKey('categories.CategoryID'), primary_key=True)\n",
    "    RecipeID = Column(Integer, ForeignKey('recipes.RecipeID'), primary_key=True)\n"
   ]
  },
  {
   "cell_type": "code",
   "execution_count": 15,
   "metadata": {},
   "outputs": [
    {
     "name": "stdout",
     "output_type": "stream",
     "text": [
      "Connected to the existing database.\n"
     ]
    }
   ],
   "source": [
    "# Set up the database connection and session (no need to create tables if they already exist)\n",
    "engine = create_engine('sqlite:///my_recipes.db')\n",
    "\n",
    "# Create a session to interact with the existing database\n",
    "Session = sessionmaker(bind=engine)\n",
    "session = Session()\n",
    "\n",
    "print(\"Connected to the existing database.\")\n"
   ]
  },
  {
   "cell_type": "code",
   "execution_count": 31,
   "metadata": {},
   "outputs": [
    {
     "name": "stdout",
     "output_type": "stream",
     "text": [
      "No recipes found for the category 'Lamb'.\n"
     ]
    }
   ],
   "source": [
    "#Query 1 function to select from a group of recipe categories\n",
    "# List of available categories\n",
    "available_categories = [\"Snacks\", \"Soups\", \"Desserts\", \"Main Courses\", \"Breads\", \"Salads\", \"Appetizers\", \"Poultry\",\n",
    "                        \"Sauces\", \"Seafood\", \"Beverages\", \"Pork\", \"Beef\", \"Lamb\", \"Vegetarian\", \"Pasta\", \"Vegan\"]\n",
    "\n",
    "def check_category_exists(category_name):\n",
    "    # Check if the category exists in the database\n",
    "    category = session.query(Category).filter(Category.CategoryName == category_name).first()\n",
    "    return category is not None\n",
    "\n",
    "def get_recipes_by_category(category_name):\n",
    "    # Fetch recipes and ingredients for a specific category\n",
    "    results = session.query(Recipe, Ingredient, RecipeIngredientsFact).join(\n",
    "        RecipeIngredientsFact, Recipe.RecipeID == RecipeIngredientsFact.RecipeID).join(\n",
    "        Ingredient, RecipeIngredientsFact.IngredientsID == Ingredient.IngredientsID).join(\n",
    "        RecipeCategory, Recipe.RecipeID == RecipeCategory.RecipeID).join(\n",
    "        Category, RecipeCategory.CategoryID == Category.CategoryID).filter(\n",
    "        Category.CategoryName == category_name).limit(10).all()\n",
    "\n",
    "    return results\n",
    "\n",
    "# Ask the user for a category name and validate it\n",
    "category_name = input(\"Enter a category name: \")\n",
    "\n",
    "while not check_category_exists(category_name):\n",
    "    print(f\"Category '{category_name}' is not available.\")\n",
    "    print(\"Please choose from the following available categories:\")\n",
    "    print(\", \".join(available_categories))\n",
    "    \n",
    "    # Prompt the user to enter a valid category name\n",
    "    category_name = input(\"Enter a valid category name: \")\n",
    "\n",
    "# Fetch recipes and ingredients for the valid category\n",
    "recipes_by_category = get_recipes_by_category(category_name)\n",
    "\n",
    "# Check if there are recipes for the given category\n",
    "if recipes_by_category:\n",
    "    # If recipes exist, print the results\n",
    "    for recipe, ingredient, _ in recipes_by_category:\n",
    "        print(f\"Recipe: {recipe.Title}, Ingredient: {ingredient.Ingredients}\")\n",
    "else:\n",
    "    # If no recipes are available, notify the user\n",
    "    print(f\"No recipes found for the category '{category_name}'.\")\n"
   ]
  },
  {
   "cell_type": "code",
   "execution_count": 28,
   "metadata": {},
   "outputs": [],
   "source": [
    "# Query 2 function to get the average rating for each recipe (Aggregated Data)\n",
    "def get_average_rating_per_recipe():\n",
    "    return session.query(Recipe.RecipeID, Recipe.Title, func.avg(Review.Rating).label('average_rating')).join(\n",
    "        Review, Recipe.RecipeID == Review.RecipeID).group_by(Recipe.RecipeID).all()\n"
   ]
  },
  {
   "cell_type": "code",
   "execution_count": 32,
   "metadata": {},
   "outputs": [
    {
     "name": "stdout",
     "output_type": "stream",
     "text": [
      "Review: This recipe is okay., Rating: 3\n"
     ]
    }
   ],
   "source": [
    "# Query 2 call for Find a Recipe ID that has at least one review\n",
    "recipe_with_reviews = session.query(Recipe.RecipeID).select_from(Recipe).join(Review, Recipe.RecipeID == Review.RecipeID).first()\n",
    "\n",
    "# If a recipe with reviews exists, query its reviews\n",
    "if recipe_with_reviews:\n",
    "    recipe_id = recipe_with_reviews.RecipeID\n",
    "    reviews = get_reviews_for_recipe(recipe_id)\n",
    "    \n",
    "    if reviews:\n",
    "        for review in reviews:\n",
    "            print(f\"Review: {review.ReviewText}, Rating: {review.Rating}\")\n",
    "    else:\n",
    "        print(f\"No reviews found for RecipeID {recipe_id}\")\n",
    "else:\n",
    "    print(\"No recipes with reviews found.\")\n",
    "\n"
   ]
  },
  {
   "cell_type": "code",
   "execution_count": 20,
   "metadata": {},
   "outputs": [
    {
     "name": "stdout",
     "output_type": "stream",
     "text": [
      "Recipe: Squash And Kale Risotto, Average Rating: 3.0\n",
      "Recipe: Winter Squash Apple And Walnut Soup, Average Rating: 4.0\n",
      "Recipe: Wonderful Winter Squash Risotto, Average Rating: 5.0\n",
      "Recipe: Steph S Chicken Tortilla Soup, Average Rating: 1.0\n",
      "Recipe: Cumberland Rum Butter, Average Rating: 5.0\n"
     ]
    }
   ],
   "source": [
    "# Query 3 function to get the average rating for each recipe (Aggregated Data)\n",
    "def get_average_rating_per_recipe():\n",
    "    return session.query(Recipe.RecipeID, Recipe.Title, func.avg(Review.Rating).label('average_rating')).join(\n",
    "        Review, Recipe.RecipeID == Review.RecipeID).group_by(Recipe.RecipeID).all()\n",
    "\n",
    "# Query 3 call to get the average rating for each recipe\n",
    "average_ratings = get_average_rating_per_recipe()\n",
    "for recipe_id, title, avg_rating in average_ratings:\n",
    "    print(f\"Recipe: {title}, Average Rating: {avg_rating}\")\n"
   ]
  }
 ],
 "metadata": {
  "kernelspec": {
   "display_name": "Python 3",
   "language": "python",
   "name": "python3"
  },
  "language_info": {
   "codemirror_mode": {
    "name": "ipython",
    "version": 3
   },
   "file_extension": ".py",
   "mimetype": "text/x-python",
   "name": "python",
   "nbconvert_exporter": "python",
   "pygments_lexer": "ipython3",
   "version": "3.11.5"
  }
 },
 "nbformat": 4,
 "nbformat_minor": 2
}
