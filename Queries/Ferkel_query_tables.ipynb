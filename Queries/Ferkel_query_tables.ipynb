{
 "cells": [
  {
   "cell_type": "markdown",
   "metadata": {},
   "source": [
    "Query 1: Users a left join and parameterized inputs to allow the user to pick a recipe to pull ingredients for."
   ]
  },
  {
   "cell_type": "code",
   "execution_count": 1,
   "metadata": {},
   "outputs": [
    {
     "name": "stdout",
     "output_type": "stream",
     "text": [
      "Tables in the database: []\n",
      "An error occurred: Execution failed on sql 'SELECT COUNT(*) FROM Instructions': no such table: Instructions\n"
     ]
    }
   ],
   "source": [
    "import sqlite3\n",
    "from pathlib import Path\n",
    "import pandas as pd\n",
    "\n",
    "def query_instructions(db_file):\n",
    "    # Ensure the path points to your actual database location\n",
    "    db_file = Path(\"C:/Users/JBAFNLE3/OneDrive - J.B. Hunt Transport/Documents/GitHub/recipes-database/my_recipes.db\")\n",
    "\n",
    "    recipe_name = input(\"Enter the recipe name: \")\n",
    "\n",
    "    try:\n",
    "        # Make a connection to the database\n",
    "        cnn = sqlite3.connect(db_file)\n",
    "\n",
    "        # Next make a cursor that can be used to run a query on the new connection\n",
    "        cur = cnn.cursor()\n",
    "\n",
    "        # See what tables are available in the database\n",
    "        cur.execute(\"SELECT name FROM sqlite_master WHERE type='table';\")\n",
    "        tables = cur.fetchall()\n",
    "        print(\"Tables in the database:\", tables)\n",
    "\n",
    "        # Check if the Users table has data\n",
    "        count_query = pd.read_sql_query(\"SELECT COUNT(*) FROM Instructions\", cnn)\n",
    "        print(\"Number of records in Users table:\", count_query.iloc[0, 0])\n",
    "\n",
    "        # Get records from the Users table\n",
    "        query = f'''\n",
    "            SELECT I.StepCount,\n",
    "                   I.Instructions\n",
    "            FROM Instructions I\n",
    "            LEFT JOIN Recipes R on I.RecipeID = R.RecipeID\n",
    "            WHERE R.Title = ?\n",
    "        '''\n",
    "        Query1 = pd.read_sql_query(query, cnn, params=(recipe_name,))\n",
    "\n",
    "        # Check if Query1 is empty\n",
    "        if Query1.empty:\n",
    "            print(f\"No records found for recipe: {recipe_name}.\")\n",
    "        else:\n",
    "            print(Query1)\n",
    "\n",
    "    except Exception as e:\n",
    "        print(\"An error occurred:\", e)\n",
    "\n",
    "    finally:\n",
    "        # Close the connection\n",
    "        if cnn:\n",
    "            cnn.close()\n",
    "\n",
    "# Call the function\n",
    "query_instructions(\"C:/path/to/your/database/my_recipes.db\")\n"
   ]
  },
  {
   "cell_type": "markdown",
   "metadata": {},
   "source": [
    "Query 2: Allows the user to count how many recipes are allergen friendly"
   ]
  },
  {
   "cell_type": "code",
   "execution_count": 2,
   "metadata": {},
   "outputs": [
    {
     "name": "stdout",
     "output_type": "stream",
     "text": [
      "An error occurred: Execution failed on sql 'SELECT COUNT(*) FROM Ingredients': no such table: Ingredients\n"
     ]
    }
   ],
   "source": [
    "def query_allergens(db_file):\n",
    "    # Ensure the path points to your actual database location\n",
    "    db_file = Path(\"C:/Users/JBAFNLE3/OneDrive - J.B. Hunt Transport/Documents/GitHub/recipes-database/my_recipes.db\")\n",
    "\n",
    "    try:\n",
    "        # Make a connection to the database\n",
    "        cnn = sqlite3.connect(db_file)\n",
    "\n",
    "        # Next make a cursor that can be used to run a query on the new connection\n",
    "        cur = cnn.cursor()\n",
    "\n",
    "        # Check if the Users table has data\n",
    "        count_query = pd.read_sql_query(\"SELECT COUNT(*) FROM Ingredients\", cnn)\n",
    "        print(\"Number of records in Ingredients table:\", count_query.iloc[0, 0])\n",
    "\n",
    "        # Get records from the Users table\n",
    "        query2 = f'''\n",
    "            SELECT Count(IngredientsId),\n",
    "            IsAllergen\n",
    "            FROM Ingredients\n",
    "            GROUP BY IsAllergen\n",
    "        '''\n",
    "        Query2 = pd.read_sql_query(query2, cnn)\n",
    "\n",
    "        # Check if Query1 is empty\n",
    "        if Query2.empty:\n",
    "            print(f\"No ingredients found.\")\n",
    "        else:\n",
    "            print(Query2)\n",
    "\n",
    "    except Exception as e:\n",
    "        print(\"An error occurred:\", e)\n",
    "\n",
    "    finally:\n",
    "        # Close the connection\n",
    "        if cnn:\n",
    "            cnn.close()\n",
    "\n",
    "# Call the function\n",
    "query_allergens(\"C:/path/to/your/database/my_recipes.db\")"
   ]
  },
  {
   "cell_type": "markdown",
   "metadata": {},
   "source": [
    "Query 3: Pulls all the user information"
   ]
  },
  {
   "cell_type": "code",
   "execution_count": 18,
   "metadata": {},
   "outputs": [
    {
     "name": "stdout",
     "output_type": "stream",
     "text": [
      "Number of records in Users table: 10\n",
      "   UserID FirstName   LastName               Email   JoinDate\n",
      "0  900000      Mike  McCLoskey      mike@gmail.com  9/24/2024\n",
      "1  900001     Susan  McCloskey     susan@gmail.com  9/24/2024\n",
      "2  900002  Brittany       Dean  brittany@gmail.com  9/24/2024\n",
      "3  900003   Natasha  Roundtree   natasha@gmail.com  9/24/2024\n",
      "4  900004   Lindsey        Ort   lindsey@gmail.com  9/24/2024\n",
      "5  900005  Michaela   OConnell  Michaela@gmail.com  9/24/2024\n",
      "6  900006   Matthew  McCloskey   Matthew@gmail.com  9/24/2024\n",
      "7  900007      Tara     Ferkel      tara@gmail.com  9/24/2024\n",
      "8  900008    Nathan  McCLoskey    nathan@gmail.com  9/24/2024\n",
      "9  900009     Keira  McCloskey     Keira@gmail.com  9/24/2024\n"
     ]
    }
   ],
   "source": [
    "def query_users(db_file):\n",
    "    # Ensure the path points to your actual database location\n",
    "    db_file = Path(\"C:/Users/JBAFNLE3/OneDrive - J.B. Hunt Transport/Documents/GitHub/recipes-database/my_recipes.db\")\n",
    "\n",
    "    try:\n",
    "        # Make a connection to the database\n",
    "        cnn = sqlite3.connect(db_file)\n",
    "\n",
    "        # Next make a cursor that can be used to run a query on the new connection\n",
    "        cur = cnn.cursor()\n",
    "\n",
    "        # Check if the Users table has data\n",
    "        count_query = pd.read_sql_query(\"SELECT COUNT(*) FROM Users\", cnn)\n",
    "        print(\"Number of records in Users table:\", count_query.iloc[0, 0])\n",
    "\n",
    "        # Get records from the Users table\n",
    "        query3 = f'''\n",
    "            SELECT * FROM Users\n",
    "        '''\n",
    "        Query3 = pd.read_sql_query(query3, cnn)\n",
    "\n",
    "        # Check if Query1 is empty\n",
    "        if Query3.empty:\n",
    "            print(f\"No users found.\")\n",
    "        else:\n",
    "            print(Query3)\n",
    "\n",
    "    except Exception as e:\n",
    "        print(\"An error occurred:\", e)\n",
    "\n",
    "    finally:\n",
    "        # Close the connection\n",
    "        if cnn:\n",
    "            cnn.close()\n",
    "\n",
    "# Call the function\n",
    "query_users(\"C:/path/to/your/database/my_recipes.db\")"
   ]
  }
 ],
 "metadata": {
  "kernelspec": {
   "display_name": "Python 3",
   "language": "python",
   "name": "python3"
  },
  "language_info": {
   "codemirror_mode": {
    "name": "ipython",
    "version": 3
   },
   "file_extension": ".py",
   "mimetype": "text/x-python",
   "name": "python",
   "nbconvert_exporter": "python",
   "pygments_lexer": "ipython3",
   "version": "3.11.9"
  }
 },
 "nbformat": 4,
 "nbformat_minor": 2
}
